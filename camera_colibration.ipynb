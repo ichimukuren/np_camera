{
 "cells": [
  {
   "cell_type": "code",
   "execution_count": 4,
   "metadata": {},
   "outputs": [],
   "source": [
    "import numpy as np\n",
    "camera_settings = np.load(\"webcam_calibration_ouput.npz\")\n",
    "\n",
    "ret = camera_settings['ret']\n",
    "mtx = camera_settings['mtx']\n",
    "dist = camera_settings['dist']\n",
    "rvecs = camera_settings['rvecs']\n",
    "tvecs = camera_settings['tvecs']\n",
    "\n",
    "\n"
   ]
  }
 ],
 "metadata": {
  "kernelspec": {
   "display_name": "Python 3",
   "language": "python",
   "name": "python3"
  },
  "language_info": {
   "codemirror_mode": {
    "name": "ipython",
    "version": 3
   },
   "file_extension": ".py",
   "mimetype": "text/x-python",
   "name": "python",
   "nbconvert_exporter": "python",
   "pygments_lexer": "ipython3",
   "version": "3.8.5"
  }
 },
 "nbformat": 4,
 "nbformat_minor": 2
}
